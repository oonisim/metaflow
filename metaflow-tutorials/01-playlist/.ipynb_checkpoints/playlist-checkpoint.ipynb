{
 "cells": [
  {
   "cell_type": "markdown",
   "metadata": {},
   "source": [
    "# Episode 01-playlist: Let's build you a movie playlist.\n",
    "\n",
    "### PlayListFlow is a movie playlist generator, and this notebook shows how you can use the Metaflow client to access data from the versioned Metaflow runs. In this example,  you can view all the historical playlists."
   ]
  },
  {
   "cell_type": "markdown",
   "metadata": {},
   "source": [
    "## Import the metaflow client"
   ]
  },
  {
   "cell_type": "code",
   "execution_count": 1,
   "metadata": {},
   "outputs": [
    {
     "name": "stdout",
     "output_type": "stream",
     "text": [
      "Current metadata provider: local@/Users/onishim4p/home/repositories/git/oonisim/metaflow/metaflow-tutorials\n"
     ]
    }
   ],
   "source": [
    "from metaflow import Flow, get_metadata\n",
    "print(\"Current metadata provider: %s\" % get_metadata())"
   ]
  },
  {
   "cell_type": "markdown",
   "metadata": {},
   "source": [
    "## Print your latest generated playlist"
   ]
  },
  {
   "cell_type": "code",
   "execution_count": 2,
   "metadata": {},
   "outputs": [
    {
     "name": "stdout",
     "output_type": "stream",
     "text": [
      "Using run: Run('PlayListFlow/1593576795656267')\n"
     ]
    }
   ],
   "source": [
    "run = Flow('PlayListFlow').latest_successful_run\n",
    "print(\"Using run: %s\" % str(run))"
   ]
  },
  {
   "cell_type": "code",
   "execution_count": 3,
   "metadata": {},
   "outputs": [
    {
     "name": "stdout",
     "output_type": "stream",
     "text": [
      "Playlist generated on 2020-07-01T04:13:17.fZ\n",
      "\n",
      "Playlist for movies in genre 'drama'\n",
      "Pick 1: 'How Do You Know'\n",
      "Pick 2: 'Smilla's Sense of Snow'\n",
      "Pick 3: 'The Adventures of Huck Finn'\n",
      "Pick 4: 'Malone'\n",
      "Pick 5: 'Flash of Genius'\n",
      "Bonus Pick: 'Ultraviolet' from 'Action|Horror|Sci-Fi|Thriller'\n"
     ]
    }
   ],
   "source": [
    "print(\"Playlist generated on %s\\n\" % str(run.finished_at))\n",
    "print(\"Playlist for movies in genre '%s'\" % run.data.genre)\n",
    "for pick, movie in enumerate(run.data.playlist, start=1):\n",
    "    print(\"Pick %d: '%s'\" % (pick, movie))\n",
    "    if pick >= run.data.recommendations:\n",
    "        break\n",
    "                \n",
    "print(\"Bonus Pick: '%s' from '%s'\" % (run.data.bonus[0], run.data.bonus[1]))"
   ]
  },
  {
   "cell_type": "markdown",
   "metadata": {},
   "source": [
    "## See what the top pick was for previously generated playlists"
   ]
  },
  {
   "cell_type": "code",
   "execution_count": 4,
   "metadata": {},
   "outputs": [
    {
     "name": "stdout",
     "output_type": "stream",
     "text": [
      "Playlist generated on 2020-07-01T04:13:17.fZ\n",
      "Playlist for movies in genre 'drama'\n",
      "Top Pick: 'How Do You Know'\n",
      "\n",
      "\n",
      "Playlist generated on 2020-07-01T04:12:46.fZ\n",
      "Playlist for movies in genre 'comedy'\n",
      "Top Pick: 'Blades of Glory'\n",
      "\n",
      "\n",
      "Playlist generated on 2020-07-01T04:12:41.fZ\n",
      "Playlist for movies in genre 'Sci-Fi'\n",
      "Top Pick: 'Spy Kids 3-D: Game Over'\n",
      "\n",
      "\n"
     ]
    }
   ],
   "source": [
    "for run in Flow('PlayListFlow').runs():\n",
    "    if run.successful:\n",
    "        print(\"Playlist generated on %s\" % run.finished_at)\n",
    "        print(\"Playlist for movies in genre '%s'\" % run.data.genre)\n",
    "        if run.data.playlist:\n",
    "            print(\"Top Pick: '%s'\" % run.data.playlist[0])\n",
    "        print('\\n')"
   ]
  }
 ],
 "metadata": {
  "kernelspec": {
   "display_name": "Python 3",
   "language": "python",
   "name": "python3"
  },
  "language_info": {
   "codemirror_mode": {
    "name": "ipython",
    "version": 3
   },
   "file_extension": ".py",
   "mimetype": "text/x-python",
   "name": "python",
   "nbconvert_exporter": "python",
   "pygments_lexer": "ipython3",
   "version": "3.7.3"
  }
 },
 "nbformat": 4,
 "nbformat_minor": 2
}
